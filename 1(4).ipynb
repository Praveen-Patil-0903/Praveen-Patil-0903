{
 "cells": [
  {
   "cell_type": "code",
   "execution_count": 1,
   "id": "9c3333c3",
   "metadata": {},
   "outputs": [],
   "source": [
    "# 1. What exactly is []?\n",
    "\n",
    "# Answer = The empty list value, which is a list value that contains no items. \n",
    "# [ ] is a empty list, like fsds =[ ]"
   ]
  },
  {
   "cell_type": "code",
   "execution_count": 2,
   "id": "2f4052d3",
   "metadata": {},
   "outputs": [
    {
     "data": {
      "text/plain": [
       "[2, 4, 'hello', 8, 10]"
      ]
     },
     "execution_count": 2,
     "metadata": {},
     "output_type": "execute_result"
    }
   ],
   "source": [
    "# 2. In a list of values stored in a variable called spam, how would you assign the value 'hello' as the third value? \n",
    "# (Assume [2, 4, 6, 8, 10] are in spam.)\n",
    "\n",
    "\n",
    "spam = [2, 4, 6, 8, 10]\n",
    "spam[2] = 'hello'\n",
    "spam\n"
   ]
  },
  {
   "cell_type": "code",
   "execution_count": 3,
   "id": "66bf07ae",
   "metadata": {},
   "outputs": [
    {
     "data": {
      "text/plain": [
       "'d'"
      ]
     },
     "execution_count": 3,
     "metadata": {},
     "output_type": "execute_result"
    }
   ],
   "source": [
    "# Let's pretend the spam includes the list ['a', 'b', 'c', 'd'] for the next three queries.\n",
    "\n",
    "# 3. What is the value of spam[int(int('3' * 2) / 11)]?\n",
    "\n",
    "spam = ['a', 'b', 'c', 'd']\n",
    "spam[int(int('3' * 2) / 11)]\n"
   ]
  },
  {
   "cell_type": "code",
   "execution_count": 4,
   "id": "1b5002fa",
   "metadata": {},
   "outputs": [
    {
     "data": {
      "text/plain": [
       "'d'"
      ]
     },
     "execution_count": 4,
     "metadata": {},
     "output_type": "execute_result"
    }
   ],
   "source": [
    "# 4. What is the value of spam[-1]?\n",
    "spam = ['a', 'b', 'c', 'd']\n",
    "spam[-1]\n"
   ]
  },
  {
   "cell_type": "code",
   "execution_count": 5,
   "id": "06bc1a1c",
   "metadata": {},
   "outputs": [
    {
     "data": {
      "text/plain": [
       "['a', 'b']"
      ]
     },
     "execution_count": 5,
     "metadata": {},
     "output_type": "execute_result"
    }
   ],
   "source": [
    "# 5. What is the value of spam[:2]?\n",
    "spam = ['a', 'b', 'c', 'd']\n",
    "spam[:2]\n"
   ]
  },
  {
   "cell_type": "code",
   "execution_count": 6,
   "id": "7047255a",
   "metadata": {},
   "outputs": [
    {
     "data": {
      "text/plain": [
       "1"
      ]
     },
     "execution_count": 6,
     "metadata": {},
     "output_type": "execute_result"
    }
   ],
   "source": [
    "# Let's pretend \"bacon\" has the list [3.14, 'cat,' 11, 'cat,' True] for the next three questions.\n",
    "\n",
    "# 6. What is the value of bacon.index('cat')?\n",
    "bacon = [3.14, 'cat', 11, 'cat', True]\n",
    "bacon.index('cat')\n"
   ]
  },
  {
   "cell_type": "code",
   "execution_count": 7,
   "id": "e03ec01a",
   "metadata": {},
   "outputs": [
    {
     "data": {
      "text/plain": [
       "[3.14, 'cat', 11, 'cat', True, 99]"
      ]
     },
     "execution_count": 7,
     "metadata": {},
     "output_type": "execute_result"
    }
   ],
   "source": [
    "# 7. How does bacon.append(99) change the look of the list value in bacon?\n",
    "bacon = [3.14, 'cat', 11, 'cat', True]\n",
    "bacon.append(99)\n",
    "bacon\n"
   ]
  },
  {
   "cell_type": "code",
   "execution_count": 8,
   "id": "7257d862",
   "metadata": {},
   "outputs": [
    {
     "data": {
      "text/plain": [
       "[3.14, 11, 'cat', True]"
      ]
     },
     "execution_count": 8,
     "metadata": {},
     "output_type": "execute_result"
    }
   ],
   "source": [
    "# 8. How does bacon.remove('cat') change the look of the list in bacon?\n",
    "bacon = [3.14, 'cat', 11, 'cat', True]\n",
    "bacon.remove('cat')\n",
    "bacon\n"
   ]
  },
  {
   "cell_type": "code",
   "execution_count": 9,
   "id": "03068995",
   "metadata": {},
   "outputs": [
    {
     "data": {
      "text/plain": [
       "[9, 8, 1, 2]"
      ]
     },
     "execution_count": 9,
     "metadata": {},
     "output_type": "execute_result"
    }
   ],
   "source": [
    "# 9. What are the 'list concatenation' and 'list replication' operators?\n",
    "\n",
    "lc = [9,8] \n",
    "lr = [1,2] \n",
    "\n",
    "lc+lr # lc +\n"
   ]
  },
  {
   "cell_type": "code",
   "execution_count": 10,
   "id": "97bbf06d",
   "metadata": {},
   "outputs": [
    {
     "data": {
      "text/plain": [
       "[11, 33, 11, 33, 11, 33, 11, 33, 11, 33]"
      ]
     },
     "execution_count": 10,
     "metadata": {},
     "output_type": "execute_result"
    }
   ],
   "source": [
    "# lr *\n",
    "\n",
    "lr = [11, 33]\n",
    "lr*5\n"
   ]
  },
  {
   "cell_type": "code",
   "execution_count": 11,
   "id": "b3bbd3ff",
   "metadata": {},
   "outputs": [
    {
     "data": {
      "text/plain": [
       "[3.14, 'fsds', 'nov21', 'finish it before december']"
      ]
     },
     "execution_count": 11,
     "metadata": {},
     "output_type": "execute_result"
    }
   ],
   "source": [
    "# 10. What is difference between the list methods append() and insert()?\n",
    "# append () Appends object to the end of the list.\n",
    "\n",
    "bacon = [3.14, 'fsds', 'nov21']\n",
    "bacon.append('finish it before december')\n",
    "bacon\n"
   ]
  },
  {
   "cell_type": "code",
   "execution_count": 12,
   "id": "7a727e38",
   "metadata": {},
   "outputs": [
    {
     "data": {
      "text/plain": [
       "['great ED.Tech', 'tech neuron', 'FSDS', 'ONE NEURON']"
      ]
     },
     "execution_count": 12,
     "metadata": {},
     "output_type": "execute_result"
    }
   ],
   "source": [
    "# insert() Insert object before index.\n",
    "iNeuron = ['tech neuron', 'FSDS', 'ONE NEURON',]\n",
    "iNeuron.insert(0, 'great ED.Tech')\n",
    "iNeuron\n"
   ]
  },
  {
   "cell_type": "code",
   "execution_count": 13,
   "id": "d96f7042",
   "metadata": {},
   "outputs": [
    {
     "data": {
      "text/plain": [
       "['fsds', 'nov21', 'finish it before december']"
      ]
     },
     "execution_count": 13,
     "metadata": {},
     "output_type": "execute_result"
    }
   ],
   "source": [
    "# 11. What are the two methods for removing items from a list?\n",
    "\n",
    "#  \"remove & pop\"\n",
    "\n",
    "# remove()\n",
    "bacon = [3.14, 'fsds', 'nov21', 'finish it before december']\n",
    "bacon.remove(3.14)\n",
    "bacon\n"
   ]
  },
  {
   "cell_type": "code",
   "execution_count": 14,
   "id": "be1f82ba",
   "metadata": {},
   "outputs": [
    {
     "data": {
      "text/plain": [
       "['great ED.Tech', 'tech neuron', 'FSDS', 'ONE NEURON']"
      ]
     },
     "execution_count": 14,
     "metadata": {},
     "output_type": "execute_result"
    }
   ],
   "source": [
    "# pop() \n",
    "\n",
    "iNeuron = ['tech neuron', 'FSDS', 'ONE NEURON',]\n",
    "iNeuron.insert(0, 'great ED.Tech')\n",
    "iNeuron\n"
   ]
  },
  {
   "cell_type": "code",
   "execution_count": 15,
   "id": "74d31f43",
   "metadata": {},
   "outputs": [],
   "source": [
    "# 12. Describe how \"list values\" and \"string values\" are identical.\n",
    "\n",
    "# both string and list can be \"passed to len\"()\n",
    "# Have \"indexes\" and \"slices\"\n",
    "# can be used in \"for loops\"\n",
    "# can be \"concantenated\" or \"replicated\"\n",
    "# can be used to with the \"in operators\" and \"not in operators\".\n"
   ]
  },
  {
   "cell_type": "code",
   "execution_count": 16,
   "id": "5234ee1e",
   "metadata": {},
   "outputs": [],
   "source": [
    "# 13. What's the difference between tuples and lists?\n",
    "\n",
    "# Tuples = are immutable, they cannot be changed at all. Tuples are written using parentheses, ()\n",
    "# list = are mutable. They can have values added, or removed or changed. Lists use the square brackets. []\n"
   ]
  },
  {
   "cell_type": "code",
   "execution_count": 17,
   "id": "1c5d1def",
   "metadata": {},
   "outputs": [
    {
     "data": {
      "text/plain": [
       "(777, 12)"
      ]
     },
     "execution_count": 17,
     "metadata": {},
     "output_type": "execute_result"
    }
   ],
   "source": [
    "# 14. How do you type a tuple value that only contains the integer 42?\n",
    "\n",
    "tuple = (777, 12)\n",
    "tuple"
   ]
  },
  {
   "cell_type": "code",
   "execution_count": 2,
   "id": "7ba71776",
   "metadata": {},
   "outputs": [
    {
     "name": "stdout",
     "output_type": "stream",
     "text": [
      "[(50,), ('Python',), ('JournalDev',), (100,)]\n"
     ]
    }
   ],
   "source": [
    "# 15. How do you get a list value's tuple form? How do you get a tuple value's list form?\n",
    "\n",
    "# list value into tuple\n",
    "lst = [50,\"Python\",\"JournalDev\",100]\n",
    "lst_tuple = [x for x in zip(*[iter(lst)])]\n",
    "print(lst_tuple)"
   ]
  },
  {
   "cell_type": "code",
   "execution_count": 7,
   "id": "f8558c6d",
   "metadata": {},
   "outputs": [
    {
     "ename": "SyntaxError",
     "evalue": "invalid syntax (Temp/ipykernel_8772/880763574.py, line 4)",
     "output_type": "error",
     "traceback": [
      "\u001b[1;36m  File \u001b[1;32m\"C:\\Users\\Praveen\\AppData\\Local\\Temp/ipykernel_8772/880763574.py\"\u001b[1;36m, line \u001b[1;32m4\u001b[0m\n\u001b[1;33m    tup_list = (x for x in zip[*(iter(tup))])\u001b[0m\n\u001b[1;37m                                           ^\u001b[0m\n\u001b[1;31mSyntaxError\u001b[0m\u001b[1;31m:\u001b[0m invalid syntax\n"
     ]
    }
   ],
   "source": [
    "# tuple into list\n",
    "\n",
    "tup = (33, 22, 10)\n",
    "tup_list = (x for x in zip[*(iter(tup))])\n",
    "print(tup_list)"
   ]
  },
  {
   "cell_type": "code",
   "execution_count": 18,
   "id": "fb0112de",
   "metadata": {},
   "outputs": [],
   "source": [
    "# 16. Variables that \"contain\" list values are not necessarily lists themselves. Instead, what do they contain?\n",
    "\n",
    "# they can contain reference to list values.\n"
   ]
  },
  {
   "cell_type": "code",
   "execution_count": 19,
   "id": "7d08caae",
   "metadata": {},
   "outputs": [],
   "source": [
    "# 17. How do you distinguish between copy.copy() and copy.deepcopy()?\n",
    "\n",
    "# copy.copy() function will do a shallow copy of a list \n",
    "# copy.deepcopy() function will do a deep copy of list. and only copy.deepcopy() will dupicate any lists inside the list"
   ]
  },
  {
   "cell_type": "code",
   "execution_count": null,
   "id": "06e5a8ff",
   "metadata": {},
   "outputs": [],
   "source": []
  }
 ],
 "metadata": {
  "kernelspec": {
   "display_name": "Python 3 (ipykernel)",
   "language": "python",
   "name": "python3"
  },
  "language_info": {
   "codemirror_mode": {
    "name": "ipython",
    "version": 3
   },
   "file_extension": ".py",
   "mimetype": "text/x-python",
   "name": "python",
   "nbconvert_exporter": "python",
   "pygments_lexer": "ipython3",
   "version": "3.9.7"
  }
 },
 "nbformat": 4,
 "nbformat_minor": 5
}
