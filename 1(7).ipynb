{
 "cells": [
  {
   "cell_type": "code",
   "execution_count": 1,
   "id": "0a1ecb18",
   "metadata": {},
   "outputs": [],
   "source": [
    "# 1. What is the name of the feature responsible for generating Regex objects?\n",
    "    # The \"re.compile()\" function returns Regex object\n",
    "    "
   ]
  },
  {
   "cell_type": "code",
   "execution_count": 2,
   "id": "7f08a666",
   "metadata": {},
   "outputs": [],
   "source": [
    "# 2. Why do raw strings often appear in Regex objects?\n",
    "    # raw strings are used so that backlashes do not have to be escaped\n",
    "    "
   ]
  },
  {
   "cell_type": "code",
   "execution_count": 3,
   "id": "57d2a7ca",
   "metadata": {},
   "outputs": [],
   "source": [
    "# 3. What is the return value of the search() method?\n",
    " # search() method returns the match object\n",
    "    "
   ]
  },
  {
   "cell_type": "code",
   "execution_count": 4,
   "id": "5b6b8ac6",
   "metadata": {},
   "outputs": [],
   "source": [
    "# 4. From a Match item, how do you get the actual strings that match the pattern?\n",
    "# The group() method returns strings of the matched text.\n"
   ]
  },
  {
   "cell_type": "code",
   "execution_count": 5,
   "id": "c1e8b1b1",
   "metadata": {},
   "outputs": [],
   "source": [
    "# 5. In the regex which created from the r'(\\d\\d\\d)-(\\d\\d\\d-\\d\\d\\d\\d)', what does group zero cover? Group 2? Group 1?\n",
    "# group 0 is the entire match, group 1 covers the first set of parentheses, and group 2 covers the second set of parentheses\n"
   ]
  },
  {
   "cell_type": "code",
   "execution_count": 6,
   "id": "e1e5caec",
   "metadata": {},
   "outputs": [],
   "source": [
    "# 6. In standard expression syntax, parentheses and intervals have distinct meanings.\n",
    "    # How can you tell a regex that you want it to fit real parentheses and periods?\n",
    "    \n",
    " # Periods and parentheses can be escaped with a backlash:\\., (, and\\).   \n",
    "    "
   ]
  },
  {
   "cell_type": "code",
   "execution_count": 7,
   "id": "49201fcc",
   "metadata": {},
   "outputs": [],
   "source": [
    "# 7. The findall() method returns a string list or a list of string tuples. What causes it to return one of the two options?\n",
    "# if the regex has no groups, a list of strings are returned. \n",
    "    # If the regex has groups, a list of tuples and strings are returned.\n",
    "    "
   ]
  },
  {
   "cell_type": "code",
   "execution_count": 9,
   "id": "41ec5fc2",
   "metadata": {},
   "outputs": [],
   "source": [
    "# 8. In standard expressions, what does the | character mean?\n",
    "# The | charecter signifies matching \"either, or\" between 2 groups.\n"
   ]
  },
  {
   "cell_type": "code",
   "execution_count": 10,
   "id": "37b114bf",
   "metadata": {},
   "outputs": [],
   "source": [
    "# 9. In regular expressions, what does the character stand for?\n",
    "# the character can either mean \"match zero\" or one of the \"proceeding group\", or be used to signify nongreedy matching.\n",
    "    "
   ]
  },
  {
   "cell_type": "code",
   "execution_count": 11,
   "id": "764b1633",
   "metadata": {},
   "outputs": [],
   "source": [
    "# 10.In regular expressions, what is the difference between the + and * characters?\n",
    "# the + matches one or more & the * matches zero or more\n"
   ]
  },
  {
   "cell_type": "code",
   "execution_count": 12,
   "id": "89640e48",
   "metadata": {},
   "outputs": [],
   "source": [
    "# 11. What is the difference between {4} and {4,5} in regular expression?\n",
    "# the {4} matches exactly four instances of the preceeding group.\n",
    "# and {4,5} matches between four and five.\n"
   ]
  },
  {
   "cell_type": "code",
   "execution_count": 13,
   "id": "8a55c51c",
   "metadata": {},
   "outputs": [],
   "source": [
    "# 12. What do you mean by the \\d, \\w, and \\s shorthand character classes signify in regular expressions?\n",
    "# the \\d, \\w, and \\s shorthand character classes match a single digit, word, and space characters respectively.\n"
   ]
  },
  {
   "cell_type": "code",
   "execution_count": 14,
   "id": "bc410b7a",
   "metadata": {},
   "outputs": [],
   "source": [
    "# 13. What do means by \\D, \\W, and \\S shorthand character classes signify in regular expressions?\n",
    "#the \\D, \\W, and \\S shorthand character classes match a single character that is not a digit, word, and space characters respectively.\n"
   ]
  },
  {
   "cell_type": "code",
   "execution_count": 15,
   "id": "649abf91",
   "metadata": {},
   "outputs": [],
   "source": [
    "# 14. What is the difference between .*? and .*?\n",
    "# (.*?) matches any character and\n",
    "# (.*) captures group zero or one time.\n"
   ]
  },
  {
   "cell_type": "code",
   "execution_count": 18,
   "id": "ca34dc60",
   "metadata": {},
   "outputs": [],
   "source": [
    "# 15. What is the syntax for matching both numbers and lowercase letters with a character class?\n",
    "# [a-zA-Z0-9] or [0-9a-z] or [a-z0-9]\n"
   ]
  },
  {
   "cell_type": "code",
   "execution_count": 19,
   "id": "5e80ad81",
   "metadata": {},
   "outputs": [],
   "source": [
    "# 16. What is the procedure for making a normal expression in regax case insensitive?\n",
    "# 1. Using CASE_INSENSITIVE flag     2. Using modifie\n"
   ]
  },
  {
   "cell_type": "code",
   "execution_count": 20,
   "id": "f00802fa",
   "metadata": {},
   "outputs": [],
   "source": [
    "# 17. What does the . character normally match? What does it match if re.DOTALL is passed as 2nd argument in re.compile()?\n",
    "# the . character normally matches any character except new line character.\n",
    "# if re.DOTALL is passed as 2nd argument in re.compile(), then the dot will aslo matches new line characters.\n"
   ]
  },
  {
   "cell_type": "code",
   "execution_count": 21,
   "id": "b891c410",
   "metadata": {},
   "outputs": [],
   "source": [
    "# 18. If numReg = re.compile(r'\\d+'), what will numRegex.sub('X', '11 drummers, 10 pipers, five rings, 4 hen') return?\n",
    "# X drummers, X pipers five rings, X hen.\n"
   ]
  },
  {
   "cell_type": "code",
   "execution_count": 1,
   "id": "d838f03e",
   "metadata": {},
   "outputs": [],
   "source": [
    "# 19. What does passing re.VERBOSE as the 2nd argument to re.compile() allow to do?\n",
    "# the re.VERBOSE argument allows you to add whitespace and comments to the sring passed to re.compile().\n"
   ]
  },
  {
   "cell_type": "code",
   "execution_count": 5,
   "id": "104aa367",
   "metadata": {},
   "outputs": [],
   "source": [
    "# 20. How would you write a regex that match a number with comma for every three digits? It must match the given following:\n",
    "# '42'\n",
    "# '1,234'\n",
    "# '6,368,745'\n",
    "# but not the following:\n",
    "# '12,34,567' # (which has only two digits between the commas)\n",
    "# '1234' (which lacks commas)\n",
    "\n",
    "# re.COMPILE(r'^\\d{1,3}(,\\d{3}*$') will createthis regex, but other regex strings can prodeuce a similar regular expression"
   ]
  },
  {
   "cell_type": "code",
   "execution_count": 6,
   "id": "5b2b9a6d",
   "metadata": {},
   "outputs": [],
   "source": [
    "# 21. How would you write a regex that matches the full name of someone whose last name is Watanabe? You can assume that the first name that comes before it will always be one word that begins with a capital letter. The regex must match the following:\n",
    "  # 'Haruto Watanabe'\n",
    "  # 'Alice Watanabe'\n",
    "  # 'RoboCop Watanabe'\n",
    "  # but not the following:\n",
    "  # 'haruto Watanabe' (where the first name is not capitalized)\n",
    "  # 'Mr. Watanabe' (where the preceding word has a nonletter character)\n",
    " #  'Watanabe' (which has no first name)\n",
    "  #'Haruto watanabe' (where Watanabe is not capitalized)\n",
    "\n",
    "\n",
    "# re.compile(r'[A-Z][a-z]*\\sWatanabe')"
   ]
  },
  {
   "cell_type": "code",
   "execution_count": 7,
   "id": "25537658",
   "metadata": {},
   "outputs": [],
   "source": [
    "# 22. How would you write a regex that matches a sentence where the first word is either Alice, Bob, or Carol;\n",
    "    #  the second word is either eats, pets, or throws;\n",
    "    # the third word is apples, cats, or baseballs; \n",
    "    # and the sentence ends with a period? This regex should be case-insensitive. It must match the following:\n",
    "    \n",
    "  #  'Alice eats apples.'\n",
    "  #  'Bob pets cats.'\n",
    "  # 'Carol throws baseballs.'\n",
    "  # 'Alice throws Apples.'\n",
    "  # 'BOB EATS CATS.'\n",
    "  #  but not the following:\n",
    "  #  'RoboCop eats apples.'\n",
    "  #  'ALICE THROWS FOOTBALLS.'\n",
    "  #  'Carol eats 7 cats.'\n",
    "\n",
    "    \n",
    "# re.compile(r'(Alice|Bob|Carol)\\s(eats|pets|throws)\\s(apples|cats|baseballs)\\.',re.IGNORECASE)    \n"
   ]
  },
  {
   "cell_type": "code",
   "execution_count": null,
   "id": "6e3264b8",
   "metadata": {},
   "outputs": [],
   "source": []
  }
 ],
 "metadata": {
  "kernelspec": {
   "display_name": "Python 3 (ipykernel)",
   "language": "python",
   "name": "python3"
  },
  "language_info": {
   "codemirror_mode": {
    "name": "ipython",
    "version": 3
   },
   "file_extension": ".py",
   "mimetype": "text/x-python",
   "name": "python",
   "nbconvert_exporter": "python",
   "pygments_lexer": "ipython3",
   "version": "3.9.7"
  }
 },
 "nbformat": 4,
 "nbformat_minor": 5
}
