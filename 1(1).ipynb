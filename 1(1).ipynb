{
 "cells": [
  {
   "cell_type": "code",
   "execution_count": 2,
   "id": "9fefa774",
   "metadata": {},
   "outputs": [],
   "source": [
    "# 1.In the below elements which of them are values or an expression? eg:- values can be integer or string, and expressions will be mathematical operators.\n",
    "\n",
    "# Values -->     'hello',  -87.8, & 6\n",
    "# expression -->    *  -  + &  /\n"
   ]
  },
  {
   "cell_type": "code",
   "execution_count": 6,
   "id": "7aba1c92",
   "metadata": {},
   "outputs": [
    {
     "name": "stdout",
     "output_type": "stream",
     "text": [
      "5\n",
      "John\n",
      "Hello\n",
      "Hello\n"
     ]
    }
   ],
   "source": [
    "# 2.What is the difference between string and variable?\n",
    "\n",
    "# variable--> Variables are symbols that you can use to store data in a program. or Variables are containers for storing data values.\n",
    "# example --> \n",
    "x = 5\n",
    "y = \"John\"\n",
    "print(x)\n",
    "print(y)\n",
    "\n",
    "# string --> A string is just a sequence of characters. or an immutable sequence of data is known as a string in Python.\n",
    "#example\n",
    "print(\"Hello\")\n",
    "print('Hello')\n",
    "         \n"
   ]
  },
  {
   "cell_type": "code",
   "execution_count": 12,
   "id": "d71db7e0",
   "metadata": {},
   "outputs": [
    {
     "name": "stdout",
     "output_type": "stream",
     "text": [
      "True\n",
      "True\n",
      "True\n",
      "{'course': 'FSDS', 'fee': 17700, 'assign': 'python'}\n"
     ]
    }
   ],
   "source": [
    "# 3.Describe three different data types\n",
    "\n",
    "# Variables can store data of different types.\n",
    "# 1) numeric type --> integer, float, complex\n",
    "\n",
    "# a) Int, or integer, is a whole number, positive or negative, without decimals, of unlimited length.\n",
    "x = 20  \n",
    "# b) Float, is a number, positive or negative, containing one or more decimals.\n",
    "x = 20.5   \n",
    "# c) Complex numbers are written with a \"j\" as the imaginary part.\n",
    "x = 1j   \n",
    "\n",
    "# 2) Boolean type. --> In programming we often need to know if an expression is True or False.\n",
    "print(10 > 9)\n",
    "print(bool(123))\n",
    "print(bool([\"FSDS CALSS\", 'from iNeuron']))\n",
    "\n",
    "\n",
    "# 3) Dictonary --> Dictionaries are used to store data values in key:value pairs.\n",
    "                # A dictionary is a collection which is ordered*, changeable and do not allow duplicates.\n",
    "dict ={\n",
    "  \"course\": \"FSDS\",\n",
    "  \"fee\": 17700,\n",
    "  \"assign\": \"python\"\n",
    "}\n",
    "print(dict)    \n"
   ]
  },
  {
   "cell_type": "code",
   "execution_count": 18,
   "id": "9d94bade",
   "metadata": {},
   "outputs": [],
   "source": [
    "# 4. What is an expression made up of? What do all expressions do?\n",
    " # An expression is a combination of operators and operands that is interpreted to produce some other value\n",
    "\n",
    "# 1. Constant Expressions: \n",
    "    # These are the expressions that have constant values only.\n",
    "# 2. Arithmetic Expressions: \n",
    "    # An arithmetic expression is a combination of numeric values, operators, and sometimes parenthesis.    \n",
    "# 3. Integral Expressions:\n",
    "    # These are the kind of expressions that produce only integer results after all computations and type conversions.\n",
    "# 4. Floating Expressions: \n",
    "    # These are the kind of expressions which produce floating point numbers as result after all computations and type conversions.\n",
    "# 5. Relational Expressions: \n",
    "    # In these types of expressions, arithmetic expressions are written on both sides of relational operator (> , < , >= , <=).\n",
    "# 6. Logical Expressions: \n",
    "    # These are kinds of expressions that result in either True or False.\n",
    "# 7. Bitwise Expressions: \n",
    "    # These are the kind of expressions in which computations are performed at bit level.\n",
    "# 8. Combinational Expressions:\n",
    "    # We can also use different types of expressions in a single expression, and that will be termed as combinational expressions.\n",
    "\n"
   ]
  },
  {
   "cell_type": "code",
   "execution_count": 19,
   "id": "330c31cd",
   "metadata": {},
   "outputs": [],
   "source": [
    "# 5. This assignment statements, like spam = 10. What is the difference between an expression and a statement?\n",
    "\n",
    "#  Expression is made up of values, containers, and mathematical operators (operands) and\n",
    "# the statement is just like a command that a python interpreter executes like print."
   ]
  },
  {
   "cell_type": "code",
   "execution_count": 20,
   "id": "ba485505",
   "metadata": {},
   "outputs": [
    {
     "data": {
      "text/plain": [
       "23"
      ]
     },
     "execution_count": 20,
     "metadata": {},
     "output_type": "execute_result"
    }
   ],
   "source": [
    " # 6. After running the following code, what does the variable bacon contain?\n",
    "bacon = 22\n",
    "bacon + 1"
   ]
  },
  {
   "cell_type": "code",
   "execution_count": 23,
   "id": "f7644e2e",
   "metadata": {},
   "outputs": [
    {
     "name": "stdout",
     "output_type": "stream",
     "text": [
      "spamspamspam\n",
      "spamspamspam\n"
     ]
    }
   ],
   "source": [
    "# 7. What should the values of the following two terms be?\n",
    "print('spam' + 'spamspam')\n",
    "print('spam' * 3 )\n"
   ]
  },
  {
   "cell_type": "code",
   "execution_count": 24,
   "id": "f45d4aee",
   "metadata": {},
   "outputs": [],
   "source": [
    "# 8. Why is eggs a valid variable name while 100 is invalid?\n",
    "\n",
    "# Because variable names cannot begin with a number. so egg is valid variable"
   ]
  },
  {
   "cell_type": "code",
   "execution_count": null,
   "id": "1c90085e",
   "metadata": {},
   "outputs": [],
   "source": [
    "# 9. What three functions can be used to get the integer, floating-point number, or string version of a value?\n"
   ]
  },
  {
   "cell_type": "code",
   "execution_count": 32,
   "id": "2aa3a6dc",
   "metadata": {},
   "outputs": [
    {
     "data": {
      "text/plain": [
       "'I have eaten burritos.'"
      ]
     },
     "execution_count": 32,
     "metadata": {},
     "output_type": "execute_result"
    }
   ],
   "source": [
    "# 10. Why does this expression cause an error? How can you fix it?\n",
    "# 'I have eaten ' + 99 + ' burritos.'\n",
    "'I have eaten burritos.'"
   ]
  },
  {
   "cell_type": "code",
   "execution_count": null,
   "id": "878e5fc1",
   "metadata": {},
   "outputs": [],
   "source": []
  }
 ],
 "metadata": {
  "kernelspec": {
   "display_name": "Python 3 (ipykernel)",
   "language": "python",
   "name": "python3"
  },
  "language_info": {
   "codemirror_mode": {
    "name": "ipython",
    "version": 3
   },
   "file_extension": ".py",
   "mimetype": "text/x-python",
   "name": "python",
   "nbconvert_exporter": "python",
   "pygments_lexer": "ipython3",
   "version": "3.9.7"
  }
 },
 "nbformat": 4,
 "nbformat_minor": 5
}
