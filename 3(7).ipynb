{
 "cells": [
  {
   "cell_type": "code",
   "execution_count": 13,
   "id": "55135dde",
   "metadata": {},
   "outputs": [
    {
     "name": "stdout",
     "output_type": "stream",
     "text": [
      "sum of the array is 45\n"
     ]
    }
   ],
   "source": [
    "# 1.Write a Python Program to find sum of array?\n",
    "import array as arr\n",
    "\n",
    "def sumofarray(arr):\n",
    "    sum=0\n",
    "    n = len(arr)\n",
    "    for i in range(n):\n",
    "        sum = sum + arr[i]\n",
    "    return sum\n",
    "\n",
    "r = arr.array('i', [1,2,3,4,5,6,7,8,9])\n",
    "\n",
    "print('sum of the array is', sumofarray(r))"
   ]
  },
  {
   "cell_type": "code",
   "execution_count": 16,
   "id": "ff9196d0",
   "metadata": {},
   "outputs": [
    {
     "name": "stdout",
     "output_type": "stream",
     "text": [
      "the largest array is 1995\n"
     ]
    }
   ],
   "source": [
    "# 2.Write a Python Program to find largest element in an array?\n",
    "def largest(arr, n):\n",
    "    max = arr[0]\n",
    "    for i in range(1, n):\n",
    "        if arr[i] > max:\n",
    "            max = arr[i]\n",
    "    return max\n",
    "arr = [11, 111, 1010, 999, 1995]\n",
    "n =len(arr)\n",
    "ans = largest(arr, n)\n",
    "print('the largest array is', ans)"
   ]
  },
  {
   "cell_type": "code",
   "execution_count": 2,
   "id": "4f989c95",
   "metadata": {},
   "outputs": [
    {
     "name": "stdout",
     "output_type": "stream",
     "text": [
      "Array after left rotation is:  [54, 45, 89, 99, 101, 11, 22, 36, 54, 45, 89, 99, 101]\n"
     ]
    }
   ],
   "source": [
    "# 3.Write a Python Program for array rotation?\n",
    "def rotateArray(a,d):\n",
    "    temp = []\n",
    "    n = len(a)\n",
    "    for i in range(d,n):\n",
    "        temp.append(a[i])\n",
    "    i = 0\n",
    "    for i in range(0,n):\n",
    "        temp.append(a[i])\n",
    "    a = temp.copy()\n",
    "    return a\n",
    "arr = [11,22,36,54,45,89,99,101]\n",
    "print(\"Array after left rotation is: \", end=' ')\n",
    "print(rotateArray(arr, 3))\n",
    "        "
   ]
  },
  {
   "cell_type": "code",
   "execution_count": 5,
   "id": "9e152c0e",
   "metadata": {},
   "outputs": [
    {
     "name": "stdout",
     "output_type": "stream",
     "text": [
      "5 6 7 8 9 10 11 12 13 14 15 1 2 3 4 "
     ]
    }
   ],
   "source": [
    "# 4.Write a Python Program to Split the array and add the first part to the end?\n",
    "def splitArr(arr, n, k):\n",
    "    for i in range(0, k):\n",
    "        x = arr[0]\n",
    "        for j in range(0, n-1):\n",
    "            arr[j] = arr[j+1]\n",
    "            \n",
    "        arr[n-1] = x\n",
    "arr = [1, 2, 3, 4, 5, 6, 7, 8, 9, 10, 11, 12, 13, 14, 15]\n",
    "n = len(arr)\n",
    "position = 4\n",
    "\n",
    "splitArr(arr, n, position)\n",
    "for i in range(0, n):\n",
    "    print(arr[i], end = ' ')\n"
   ]
  },
  {
   "cell_type": "code",
   "execution_count": 6,
   "id": "72401f73",
   "metadata": {},
   "outputs": [
    {
     "name": "stdout",
     "output_type": "stream",
     "text": [
      "True\n",
      "False\n",
      "True\n",
      "True\n"
     ]
    }
   ],
   "source": [
    "# 5.Write a Python Program to check if given array is Monotonic?\n",
    "def monotone(a):\n",
    "    n = len(a)\n",
    "    if n==1:\n",
    "        return True\n",
    "    else:\n",
    "        if all(a[i]>=a[i+1] for i in range(0,n-1) or a[i]<=a[i+1] for i in range(0,n-1)):\n",
    "            return True\n",
    "        else:\n",
    "            return False\n",
    "z= [9, 8, 7, 6]    \n",
    "print(monotone(z))\n",
    "x = [9, 3, 4, 5]\n",
    "print(monotone(x))\n",
    "c = [4,3,2]\n",
    "print(monotone(c))\n",
    "v = [1]\n",
    "print(monotone(v))\n"
   ]
  },
  {
   "cell_type": "code",
   "execution_count": null,
   "id": "65cd62fe",
   "metadata": {},
   "outputs": [],
   "source": []
  }
 ],
 "metadata": {
  "kernelspec": {
   "display_name": "Python 3 (ipykernel)",
   "language": "python",
   "name": "python3"
  },
  "language_info": {
   "codemirror_mode": {
    "name": "ipython",
    "version": 3
   },
   "file_extension": ".py",
   "mimetype": "text/x-python",
   "name": "python",
   "nbconvert_exporter": "python",
   "pygments_lexer": "ipython3",
   "version": "3.9.7"
  }
 },
 "nbformat": 4,
 "nbformat_minor": 5
}
