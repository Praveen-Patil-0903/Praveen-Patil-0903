{
 "cells": [
  {
   "cell_type": "code",
   "execution_count": null,
   "id": "c3b77171",
   "metadata": {},
   "outputs": [],
   "source": [
    "# 1(2)"
   ]
  },
  {
   "cell_type": "code",
   "execution_count": 1,
   "id": "6c6a017a",
   "metadata": {},
   "outputs": [
    {
     "name": "stdout",
     "output_type": "stream",
     "text": [
      "False\n",
      "True\n"
     ]
    }
   ],
   "source": [
    "# 1.What are the two values of the Boolean data type? How do you write them?\n",
    " # The boolean value can be of two types only. they are either \"True\" or \"False\"\n",
    "a = (7 > 10)\n",
    "print(a)\n",
    "b = (10 > 7)\n",
    "print(b)"
   ]
  },
  {
   "cell_type": "code",
   "execution_count": 2,
   "id": "97c7d070",
   "metadata": {},
   "outputs": [],
   "source": [
    "# 2. What are the three different types of Boolean operators?\n",
    " # The three basic boolean operators are AND, OR, and NOT"
   ]
  },
  {
   "cell_type": "code",
   "execution_count": 3,
   "id": "be80828a",
   "metadata": {},
   "outputs": [
    {
     "name": "stdout",
     "output_type": "stream",
     "text": [
      "True\n",
      "True\n",
      "True\n",
      "True\n",
      "True\n",
      "True\n",
      "True\n",
      "True\n",
      "True\n"
     ]
    },
    {
     "name": "stderr",
     "output_type": "stream",
     "text": [
      "<>:6: SyntaxWarning: \"is\" with a literal. Did you mean \"==\"?\n",
      "<>:14: SyntaxWarning: \"is not\" with a literal. Did you mean \"!=\"?\n",
      "<>:6: SyntaxWarning: \"is\" with a literal. Did you mean \"==\"?\n",
      "<>:14: SyntaxWarning: \"is not\" with a literal. Did you mean \"!=\"?\n",
      "C:\\Users\\Praveen\\AppData\\Local\\Temp/ipykernel_12648/795240705.py:6: SyntaxWarning: \"is\" with a literal. Did you mean \"==\"?\n",
      "  print(5 is 5)\n",
      "C:\\Users\\Praveen\\AppData\\Local\\Temp/ipykernel_12648/795240705.py:14: SyntaxWarning: \"is not\" with a literal. Did you mean \"!=\"?\n",
      "  print(\"hello\" is not \"goodbye\")\n"
     ]
    }
   ],
   "source": [
    "# 3. Make a list of each Boolean operator's truth tables (i.e. every possible combination of Boolean values for the operator and what it evaluate ).\n",
    "print(5 < 6)\n",
    "\n",
    "print(2 in [1,2,3])\n",
    "\n",
    "print(5 is 5)\n",
    "\n",
    "print(5 == 5)\n",
    "\n",
    "print(5 == 5 or 6 == 7)\n",
    "\n",
    "print(5 == 5 and 7 == 7)\n",
    "\n",
    "print(\"hello\" is not \"goodbye\")\n",
    "\n",
    "print(not(5 == 7))\n",
    "\n",
    "print(4 not in [1,2,3])"
   ]
  },
  {
   "cell_type": "code",
   "execution_count": 4,
   "id": "f975c1ba",
   "metadata": {},
   "outputs": [
    {
     "data": {
      "text/plain": [
       "True"
      ]
     },
     "execution_count": 4,
     "metadata": {},
     "output_type": "execute_result"
    }
   ],
   "source": [
    "# 4. What are the values of the following expressions?\n",
    "(5 > 4) and (3 == 5)\n",
    "not (5 > 4)\n",
    "(5 > 4) or (3 == 5)\n",
    "not ((5 > 4) or (3 == 5))\n",
    "(True and True) and (True == False)\n",
    "(not False) or (not True)"
   ]
  },
  {
   "cell_type": "code",
   "execution_count": 5,
   "id": "3e0cd774",
   "metadata": {},
   "outputs": [],
   "source": [
    "# 5. What are the six comparison operators?\n",
    "# less than (<)\n",
    "# lessthan or equal to (<=)\n",
    "# greater than (>)\n",
    "# greater tahn or equal to (>=)\n",
    "# Equal equal to (==)\n",
    "# not equal to (!=)\n"
   ]
  },
  {
   "cell_type": "code",
   "execution_count": 6,
   "id": "e23a6bae",
   "metadata": {},
   "outputs": [],
   "source": [
    "# 6. How do you tell the difference between the equal to and assignment operators?Describe a condition and when you would use one.\n",
    "\n",
    "# ASIIGNMENT --> The “=” is an assignment operator is used to assign the value on the right to the variable on the left.\n",
    "# Eg:  tata_motar = \"product based company\"   or   p = 21\n",
    "\n",
    "# EQUAL TO --> The ‘==’ operator checks whether the two given operands are equal or not.\n",
    "# eg: 5 == 5, \n"
   ]
  },
  {
   "cell_type": "code",
   "execution_count": 7,
   "id": "64f6312d",
   "metadata": {},
   "outputs": [
    {
     "name": "stdout",
     "output_type": "stream",
     "text": [
      "ham\n",
      "spam\n",
      "spam\n"
     ]
    }
   ],
   "source": [
    "# 7. Identify the three blocks in this code:\n",
    "spam = 0\n",
    "if spam == 10:\n",
    "    print('eggs') # block 1\n",
    "if spam > 5:\n",
    "    print('bacon')  # block 2\n",
    "else:\n",
    "    print('ham')    # block 3\n",
    "    print('spam')\n",
    "    print('spam')\n",
    "   \n"
   ]
  },
  {
   "cell_type": "code",
   "execution_count": 8,
   "id": "a9e88bb6",
   "metadata": {},
   "outputs": [
    {
     "name": "stdout",
     "output_type": "stream",
     "text": [
      "Greetings!\n"
     ]
    }
   ],
   "source": [
    "# 8. Write code that prints Hello if 1 is stored in spam, prints Howdy if 2 is stored in spam, \n",
    "     # and prints Greetings! if anything else is stored in spam.\n",
    "spam = 0\n",
    "if spam == 1:\n",
    "    print('Hello') \n",
    "if spam > 2:\n",
    "    print('Howdy')  \n",
    "else:\n",
    "    print('Greetings!')     \n",
    "    "
   ]
  },
  {
   "cell_type": "code",
   "execution_count": 9,
   "id": "c310d86e",
   "metadata": {},
   "outputs": [],
   "source": [
    "# 9.If your programme is stuck in an endless loop, what keys you’ll press?\n",
    "\n",
    "# CTRL + C"
   ]
  },
  {
   "cell_type": "code",
   "execution_count": 10,
   "id": "ea284319",
   "metadata": {},
   "outputs": [],
   "source": [
    "# 10. How can you tell the difference between break and continue?\n",
    "# BREAK --> It eliminates the execution of remaining iteration of loop\n",
    "        # ‘break’ will resume control of program to the end of loop enclosing that ‘break’.\n",
    "        \n",
    "# CONTINUE --> It will terminate only the current iteration of loop.\n",
    "        # --> The ‘continue’ will resume the control of the program to next iteration of that loop enclosing ‘continue'\n"
   ]
  },
  {
   "cell_type": "code",
   "execution_count": 11,
   "id": "d2f482f4",
   "metadata": {},
   "outputs": [
    {
     "name": "stdout",
     "output_type": "stream",
     "text": [
      "0 1 2 3 4 5 6 7 8 9 \n",
      "0 1 2 3 4 5 6 7 8 9 0 1 2 3 4 5 6 7 8 9 \n"
     ]
    }
   ],
   "source": [
    "# 11. In a for loop, what is the difference between range(10), range(0, 10), and range(0, 10, 1)?\n",
    "\n",
    "# range 10 \n",
    "for i in range(10):\n",
    "    print(i, end=\" \")\n",
    "print()\n",
    "# ans = 0 1 2 3 4 5 6 7 8 9 \n",
    "\n",
    "\n",
    "# range 0-10\n",
    "for i in range(0, 10):\n",
    "    print(i, end=\" \")    \n",
    "# ans = 0 1 2 3 4 5 6 7 8 9 \n",
    "\n",
    "\n",
    "\n",
    "# range 0,10,1\n",
    "for i in range(0,10,1):\n",
    "    print(i, end=\" \")\n",
    "print()\n",
    "# Ans = 0 1 2 3 4 5 6 7 8 9.\n",
    "\n",
    "\n",
    "# ans is remain same for  given 3 type."
   ]
  },
  {
   "cell_type": "code",
   "execution_count": 12,
   "id": "f81bc497",
   "metadata": {},
   "outputs": [
    {
     "name": "stdout",
     "output_type": "stream",
     "text": [
      "1\n",
      "2\n",
      "3\n",
      "4\n",
      "5\n",
      "6\n",
      "7\n",
      "8\n",
      "9\n",
      "10\n",
      "1\n",
      "2\n",
      "3\n",
      "4\n",
      "5\n",
      "6\n",
      "7\n",
      "8\n",
      "9\n",
      "10\n"
     ]
    }
   ],
   "source": [
    "# 12. Write a short program that prints the numbers 1 to 10 using a for loop.\n",
    "# Then write an equivalent program that prints the numbers 1 to 10 using a while loop.\n",
    "\n",
    "# for loop.\n",
    "for i in range (1, 11):\n",
    "    print(i)\n",
    "    \n",
    "# while loop.\n",
    "i = 1\n",
    "while (i<=10):\n",
    "    print(i)\n",
    "    i =  i+1\n",
    "    "
   ]
  },
  {
   "cell_type": "code",
   "execution_count": 13,
   "id": "40b50719",
   "metadata": {},
   "outputs": [],
   "source": [
    "# 13. If you had a function named bacon() inside a module named spam, how would you call it after importing spam?\n",
    "\n",
    "# This function can be called with \"spam.bacon()\"\n"
   ]
  },
  {
   "cell_type": "code",
   "execution_count": null,
   "id": "9afdb6b8",
   "metadata": {},
   "outputs": [],
   "source": []
  }
 ],
 "metadata": {
  "kernelspec": {
   "display_name": "Python 3 (ipykernel)",
   "language": "python",
   "name": "python3"
  },
  "language_info": {
   "codemirror_mode": {
    "name": "ipython",
    "version": 3
   },
   "file_extension": ".py",
   "mimetype": "text/x-python",
   "name": "python",
   "nbconvert_exporter": "python",
   "pygments_lexer": "ipython3",
   "version": "3.9.7"
  }
 },
 "nbformat": 4,
 "nbformat_minor": 5
}
