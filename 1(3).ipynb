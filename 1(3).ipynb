{
 "cells": [
  {
   "cell_type": "code",
   "execution_count": 1,
   "id": "a1a304e4",
   "metadata": {},
   "outputs": [],
   "source": [
    "#1-3"
   ]
  },
  {
   "cell_type": "code",
   "execution_count": 2,
   "id": "e730d3b7",
   "metadata": {},
   "outputs": [],
   "source": [
    "#1. Why are functions advantageous to have in your programs?\n",
    "\n",
    "# A function is reusable. It saves your day by having a single solution for a repeating problem \n",
    "    # so we don’t have to do the same work over and over again\n",
    "    "
   ]
  },
  {
   "cell_type": "code",
   "execution_count": 3,
   "id": "f074df49",
   "metadata": {},
   "outputs": [],
   "source": [
    "# 2. When does the code in a function run: when it's specified or when it's called?\n",
    "\n",
    "# To carry out that specific task, the function might or might not need multiple inputs.\n"
   ]
  },
  {
   "cell_type": "code",
   "execution_count": 4,
   "id": "b3fa6e9a",
   "metadata": {},
   "outputs": [],
   "source": [
    "# 3. What statement creates a function?\n",
    "\n",
    "# Answer = The “def” keyword is a statement for defining a function in Python.\n"
   ]
  },
  {
   "cell_type": "code",
   "execution_count": 5,
   "id": "5dccd6fc",
   "metadata": {},
   "outputs": [],
   "source": [
    "# 4. What is the difference between a function and a function call?\n",
    "\n",
    "# Answer = * A \"function\" is a block of code that does a particular operation and returns a result. \n",
    "            # It usually accepts inputs as parameters and returns a result. The parameters are not mandatory\n",
    "\n",
    "# * A \"function call\" is the code used to pass control to a function\n"
   ]
  },
  {
   "cell_type": "code",
   "execution_count": 6,
   "id": "c28eb511",
   "metadata": {},
   "outputs": [],
   "source": [
    "# 5. How many global scopes are there in a Python program? How many local scopes?\n",
    "\n",
    "# Answer = * There's only one global Python scope per program execution.\n",
    "\n",
    "    # * There can be any number of local Python scope per program execution."
   ]
  },
  {
   "cell_type": "code",
   "execution_count": 7,
   "id": "48564ad7",
   "metadata": {},
   "outputs": [],
   "source": [
    "# 6. What happens to variables in a local scope when the function call returns\n",
    "\n",
    "# Answer = * A local variable retains its value until the next time the function is called\n",
    "        # * A local variable becomes undefined after the function call completes\n",
    "        # * The local variable can be used outside the function any time after the function call completes."
   ]
  },
  {
   "cell_type": "code",
   "execution_count": 8,
   "id": "cd6e0158",
   "metadata": {},
   "outputs": [],
   "source": [
    "# 7. What is the concept of a return value? Is it possible to have a return value in an expression?\n",
    "\n",
    "# * he Python return statement is a key component of functions and methods. \n",
    " #  You can use the return statement to make your functions send Python objects back to the caller code. \n",
    "    # These objects are known as the function’sreturn value. \n",
    "    # You can use them to perform further computation in your programs.\n",
    "\n",
    " # *  Using the return statement effectively is a core skill if you want to code custom functions that are Pythonic and robust.\n",
    "\n",
    " # * Yes it is possible to have a return value in an expression\n"
   ]
  },
  {
   "cell_type": "code",
   "execution_count": 9,
   "id": "48295ded",
   "metadata": {},
   "outputs": [],
   "source": [
    "# 8. If a function does not have a return statement, what is the return value of a call to that function?\n",
    "\n",
    "# Answer = If no return statement appears in a function definition,control automatically returns to the calling function \n",
    "     # after the last statement of the called function is executed. In this case, the return value of the called function \n",
    "     # is undefined."
   ]
  },
  {
   "cell_type": "code",
   "execution_count": 10,
   "id": "00a0b124",
   "metadata": {},
   "outputs": [],
   "source": [
    "# 9. How do you make a function variable refer to the global variable?\n",
    "\n",
    "#  answer = To create a global variable inside a function, you can use the global keyword.\n"
   ]
  },
  {
   "cell_type": "code",
   "execution_count": 11,
   "id": "9d0ffb79",
   "metadata": {},
   "outputs": [],
   "source": [
    "# 10. What is the data type of None?\n",
    "\n",
    "# Answer = None is a data type of its own (NoneType)\n"
   ]
  },
  {
   "cell_type": "code",
   "execution_count": 12,
   "id": "bdfba670",
   "metadata": {},
   "outputs": [],
   "source": [
    "# 11. What does the sentence import areallyourpetsnamederic do?\n",
    "\n",
    "# Answer = It will import the libaray name areallyourpetsnamederic"
   ]
  },
  {
   "cell_type": "code",
   "execution_count": 13,
   "id": "ff6b92ca",
   "metadata": {},
   "outputs": [],
   "source": [
    "# 12. If you had a bacon() feature in a spam module, what would you call it after importing spam?\n",
    "\n",
    "# Answer = This function can be called with spam.bacon()."
   ]
  },
  {
   "cell_type": "code",
   "execution_count": 14,
   "id": "b9aef3c8",
   "metadata": {},
   "outputs": [],
   "source": [
    "# 13. What can you do to save a programme from crashing if it encounters an error?\n",
    "\n",
    "# Answer = Try running the program and it should throw an error message instead of crashing the program. \n",
    "    # The reason for the exception is also returned as an exception message. \n",
    "    # In the above code, we have handled the file reading inside an IOError exception handler\n"
   ]
  },
  {
   "cell_type": "code",
   "execution_count": 15,
   "id": "34192707",
   "metadata": {},
   "outputs": [],
   "source": [
    "# 14. What is the purpose of the try clause? What is the purpose of the except clause?\n",
    "\n",
    "# Answer = In the try clause, all statements are executed until an exception is encountered.\n",
    "    # except is used to catch and handle the exception(s) that are encountered in the try clause. \n",
    "    # else lets you code sections that should run only when no exceptions are encountered in the try clause."
   ]
  },
  {
   "cell_type": "code",
   "execution_count": null,
   "id": "00644307",
   "metadata": {},
   "outputs": [],
   "source": []
  }
 ],
 "metadata": {
  "kernelspec": {
   "display_name": "Python 3 (ipykernel)",
   "language": "python",
   "name": "python3"
  },
  "language_info": {
   "codemirror_mode": {
    "name": "ipython",
    "version": 3
   },
   "file_extension": ".py",
   "mimetype": "text/x-python",
   "name": "python",
   "nbconvert_exporter": "python",
   "pygments_lexer": "ipython3",
   "version": "3.9.7"
  }
 },
 "nbformat": 4,
 "nbformat_minor": 5
}
