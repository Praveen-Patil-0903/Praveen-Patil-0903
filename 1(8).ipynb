{
 "cells": [
  {
   "cell_type": "code",
   "execution_count": 1,
   "id": "ef42c1bd",
   "metadata": {},
   "outputs": [],
   "source": [
    "# 1. Is the Python Standard Library included with PyInputPlus?\n",
    "# or PyInputPlus is not a part of the Python Standard Library, we must install it separately using Pip.\n",
    "\n"
   ]
  },
  {
   "cell_type": "code",
   "execution_count": 2,
   "id": "6d0d0744",
   "metadata": {},
   "outputs": [],
   "source": [
    "# 2. Why is PyInputPlus commonly imported with import pyinputplus as pypi?\n",
    "\n",
    "# we can import the module with import pyinputplus as pyip so that we can enter a shorter name when calling the module's\n",
    "  # functions. PyInputPlus has functions for entering a variety of input, including strings, numbers, dates, yes/no, \n",
    "  # True/False, emails, and files.\n",
    "# You can import the module with import pyinputplus as pyip so that you can enter a shorter name when calling the module’s functions\n"
   ]
  },
  {
   "cell_type": "code",
   "execution_count": 3,
   "id": "26ca956b",
   "metadata": {},
   "outputs": [
    {
     "name": "stdout",
     "output_type": "stream",
     "text": [
      "026\n",
      "0.033.265\n",
      "26\n",
      "33.265\n"
     ]
    }
   ],
   "source": [
    "# 3. How do you distinguish between inputInt() and inputFloat()?\n",
    "# The inputInt() function returns an integer, while the inputFloat() function returns a float value.\n",
    "a = input(int())\n",
    "b = input(float())\n",
    "print(a)\n",
    "print(b)"
   ]
  },
  {
   "cell_type": "code",
   "execution_count": 4,
   "id": "4265d8a2",
   "metadata": {},
   "outputs": [],
   "source": [
    "# 4. Using PyInputPlus, how do you ensure that the user enters a whole number between 0 and 99?\n",
    "# By using pyip.inputint(min=0, max=99)\n"
   ]
  },
  {
   "cell_type": "code",
   "execution_count": 5,
   "id": "7f13b004",
   "metadata": {},
   "outputs": [],
   "source": [
    "# 5. What is transferred to the keyword arguments allowRegexes and blockRegexes?\n",
    "# A list of regex strings that are either explicitly allowed or denied\n"
   ]
  },
  {
   "cell_type": "code",
   "execution_count": 6,
   "id": "43d503a2",
   "metadata": {},
   "outputs": [],
   "source": [
    "# 6. If a blank input is entered three times, what does inputStr(limit=3) do?\n",
    "# It will throw RetryLimitException exception.\n"
   ]
  },
  {
   "cell_type": "code",
   "execution_count": 7,
   "id": "737447f5",
   "metadata": {},
   "outputs": [],
   "source": [
    "# 7. If blank input is entered three times, what does inputStr(limit=3, default='hello') do?\n",
    "# The function returns the value 'hello'\n"
   ]
  },
  {
   "cell_type": "code",
   "execution_count": null,
   "id": "290e4bc9",
   "metadata": {},
   "outputs": [],
   "source": []
  }
 ],
 "metadata": {
  "kernelspec": {
   "display_name": "Python 3 (ipykernel)",
   "language": "python",
   "name": "python3"
  },
  "language_info": {
   "codemirror_mode": {
    "name": "ipython",
    "version": 3
   },
   "file_extension": ".py",
   "mimetype": "text/x-python",
   "name": "python",
   "nbconvert_exporter": "python",
   "pygments_lexer": "ipython3",
   "version": "3.9.7"
  }
 },
 "nbformat": 4,
 "nbformat_minor": 5
}
