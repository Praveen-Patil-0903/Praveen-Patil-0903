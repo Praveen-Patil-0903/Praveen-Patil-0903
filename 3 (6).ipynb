{
 "cells": [
  {
   "cell_type": "code",
   "execution_count": 1,
   "id": "17caf4df",
   "metadata": {},
   "outputs": [
    {
     "name": "stdout",
     "output_type": "stream",
     "text": [
      "Fibonacci sequence: \n",
      "0\n",
      "1\n",
      "1\n",
      "2\n",
      "3\n",
      "5\n",
      "8\n",
      "13\n",
      "21\n",
      "34\n"
     ]
    }
   ],
   "source": [
    "# 1.Write a Python Program to Display Fibonacci Sequence Using Recursion?\n",
    "def recur_fibo(n):\n",
    "    if n <= 1:\n",
    "        return n\n",
    "    else:\n",
    "        return(recur_fibo(n-1) + recur_fibo(n-2))\n",
    "nterms = 10\n",
    "if nterms <=0:\n",
    "    print('enter positive integer')\n",
    "else:\n",
    "    print('Fibonacci sequence: ')\n",
    "    for i in range(nterms):\n",
    "        print(recur_fibo(i))"
   ]
  },
  {
   "cell_type": "code",
   "execution_count": 5,
   "id": "618a5ed2",
   "metadata": {},
   "outputs": [
    {
     "name": "stdout",
     "output_type": "stream",
     "text": [
      "enter a number6\n",
      " The fatorial of 6 is 720\n"
     ]
    }
   ],
   "source": [
    "# 2.Write a Python Program to Find Factorial of Number Using Recursion?\n",
    "def recur_factorial(n):\n",
    "    if n == 1:\n",
    "        return n\n",
    "    else:\n",
    "        return n*recur_factorial(n-1)\n",
    "num = int(input('enter a number'))\n",
    "\n",
    "if num < 0:\n",
    "    print('sorry, dactorial does not exist')\n",
    "elif num == 0:\n",
    "    print(' factorial of 0 is 1')\n",
    "else:\n",
    "    print(' The fatorial of', num, 'is', recur_factorial(num))"
   ]
  },
  {
   "cell_type": "code",
   "execution_count": 15,
   "id": "8e6cb4f6",
   "metadata": {},
   "outputs": [
    {
     "name": "stdout",
     "output_type": "stream",
     "text": [
      "Enter the height in cm: 170\n",
      "Enter the weight in kg: 64\n",
      "Your Body Mass Index is 22.145328719723185\n",
      "You are healthy.\n"
     ]
    }
   ],
   "source": [
    "# 3.Write a Python Program to calculate your Body Mass Index?\n",
    "\n",
    "the_height = float(input(\"Enter the height in cm: \"))  \n",
    "the_weight = float(input(\"Enter the weight in kg: \"))  \n",
    " \n",
    "the_BMI = the_weight / (the_height/100)**2  \n",
    "print(\"Your Body Mass Index is\", the_BMI)  \n",
    "  \n",
    "if the_BMI <= 18.5:  \n",
    "    print(\"You are underweight.\")  \n",
    "elif the_BMI <= 24.9:  \n",
    "    print(\"You are healthy.\")  \n",
    "elif the_BMI <= 29.9:  \n",
    "    the_print(\"You are over weight.\")  \n",
    "else:  \n",
    "    print(\"You are obese.\")  "
   ]
  },
  {
   "cell_type": "code",
   "execution_count": 10,
   "id": "bd64a88b",
   "metadata": {},
   "outputs": [
    {
     "name": "stdout",
     "output_type": "stream",
     "text": [
      "math.log(903.12) :  6.805855434953291\n",
      "math.log(math.pi) ; 1.1447298858494002\n",
      "math.log(777) : 6.655440350367647\n"
     ]
    }
   ],
   "source": [
    "# 4.Write a Python Program to calculate the natural logarithm of any number?\n",
    "import math\n",
    "\n",
    "print('math.log(903.12) : ', math.log(903.12))\n",
    "print('math.log(math.pi) ;', math.log(math.pi))\n",
    "print('math.log(777) :', math.log(777))"
   ]
  },
  {
   "cell_type": "code",
   "execution_count": 12,
   "id": "ca06ba4f",
   "metadata": {},
   "outputs": [
    {
     "name": "stdout",
     "output_type": "stream",
     "text": [
      "enter a no 8\n",
      "1296\n"
     ]
    }
   ],
   "source": [
    "# 5.Write a Python Program for cube sum of first n natural numbers?\n",
    "def sumofseries(n):\n",
    "    sum = 0\n",
    "    \n",
    "    for i in range(1, n+1):\n",
    "        sum +=i*i*i\n",
    "    return sum\n",
    "n = int(input('enter a no '))\n",
    "print(sumofseries(n))\n",
    "    "
   ]
  },
  {
   "cell_type": "code",
   "execution_count": null,
   "id": "a71f811c",
   "metadata": {},
   "outputs": [],
   "source": []
  }
 ],
 "metadata": {
  "kernelspec": {
   "display_name": "Python 3 (ipykernel)",
   "language": "python",
   "name": "python3"
  },
  "language_info": {
   "codemirror_mode": {
    "name": "ipython",
    "version": 3
   },
   "file_extension": ".py",
   "mimetype": "text/x-python",
   "name": "python",
   "nbconvert_exporter": "python",
   "pygments_lexer": "ipython3",
   "version": "3.9.7"
  }
 },
 "nbformat": 4,
 "nbformat_minor": 5
}
